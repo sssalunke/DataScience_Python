#formatted strings

name = 'john'
age = 55


print('hi ' + name + '. You are ' + str(age) + ' years old')

#new feature of python 3

name = 'john'
age = 55


print(f'hi {name}. You are {age} years old')

#another methods
print('hi {}. You are {} years old'.format('john','55')) 
print('hi {}. You are {} years old'.format(name,age)) 

#another method

name = 'john'
age = 55

print ('hi {new_name}. You are {age} years old '.format(new_name = 'sally' , age = 100))



#string index
selfish = 'me me me'
        #  01234567
    
print(selfish[0])

selfish = '01234567'
        #  01234567
    
# [start:stop]
print(selfish[0:7]) #not take 7 number
print(selfish[0:8])

selfish = '01234567'
        #  01234567
    
# [start:stop:stepover]
print(selfish[0:8:1]) #one by one
print(selfish[0:8:2]) # by two
print(selfish[0:8:3])

selfish = '01234567'
        #  01234567

print(selfish[1:]) # no stop
print(selfish[:5])
print(selfish[-1]) #python negative means start with end
print(selfish[ : :2])
print(selfish[ : :-1]) #reverse number
print(selfish[ : :-2])



#length
basket = [1,2,3,4,5]
print (len(basket))

##append

basket = [1,2,3,4,5]

#adding
new_list = basket.append(100)
print (basket)


basket = [1,2,3,4,5]

#adding
basket.append(100)
new_list = basket
print (new_list)
print (basket)

#insert

basket = [1,2,3,4,5]

#adding
#basket.insert(4, 100)
basket.insert(5, 100)
new_list = basket
print (new_list)
print (basket)

#extend
basket = [1,2,3,4,5]

#adding
basket.extend([100, 101])
new_list = basket
print (new_list)
print (basket)

basket = [1,2,3,4,5]

#removing
basket.pop()
print (basket)

basket.pop()
print (basket)

basket = [1,2,3,4,5]

#removing
basket.pop(0) 
print (basket)

basket = [1,2,3,4,5]

#removing
basket.remove(4)
print (basket)

basket = [1,2,3,4,5]

#removing
basket.clear() 
print (basket)

basket = ['a','b','c','d','e']

print(basket.index('d')) #index of 3

basket = ['a','b','c','d','e']

#print(basket.index(value,'start','stop'))
print(basket.index('d', 0, 4)) #index of 3

#true false
basket = ['a','b','c','d','e']

print ('b' in basket)

print ('x' in basket)


#count
basket = ['a','b','c','d','e','f','d','d']
print(basket.count('d'))

#sort
basket = ['a','b','c','d','e','f','d','d']
basket.sort()
print(basket)

basket = ['a','b','c','d','e','f','d','d']
#sorted(basket)
print(sorted(basket))

#reverse
basket = ['a','b','c','d','e','f','d','d']
basket.reverse()
print(basket)

basket = ['a','b','c','d','e','f','d','d']
basket.sort()
basket.reverse()
print(basket)

#dictionary
dictionary = {
    'a' : 1,
    'b' : 2,
    'x' : 3
}
print(dictionary)

print(dictionary['b'])



